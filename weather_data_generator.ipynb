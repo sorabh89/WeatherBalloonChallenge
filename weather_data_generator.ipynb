{
 "cells": [
  {
   "cell_type": "code",
   "execution_count": 26,
   "id": "7778137f-7299-426f-be22-60dfa85fe1cd",
   "metadata": {},
   "outputs": [
    {
     "data": {
      "text/plain": [
       "import scala.util.Random\n",
       "import java.time._\n"
      ]
     },
     "execution_count": 26,
     "metadata": {},
     "output_type": "execute_result"
    }
   ],
   "source": [
    "import scala.util.Random\n",
    "import java.time._"
   ]
  },
  {
   "cell_type": "code",
   "execution_count": 27,
   "id": "c6067a59-3009-4045-bef0-766640872d94",
   "metadata": {},
   "outputs": [
    {
     "data": {
      "text/plain": [
       "start: Long = 1609502400\n"
      ]
     },
     "execution_count": 27,
     "metadata": {},
     "output_type": "execute_result"
    }
   ],
   "source": [
    "val start = LocalDateTime.of(2021, 1, 1, 12, 0).toEpochSecond(ZoneOffset.UTC)"
   ]
  },
  {
   "cell_type": "code",
   "execution_count": 28,
   "id": "71744449-c515-490e-96d7-7c0efa99f25e",
   "metadata": {},
   "outputs": [
    {
     "data": {
      "text/plain": [
       "randomDateTime: java.time.LocalDateTime = 2021-07-17T12:44:24.000005\n"
      ]
     },
     "execution_count": 28,
     "metadata": {},
     "output_type": "execute_result"
    }
   ],
   "source": [
    "val randomDateTime = LocalDateTime.ofEpochSecond(start + Random.nextInt(86400*365), 5000, ZoneOffset.UTC)"
   ]
  },
  {
   "cell_type": "code",
   "execution_count": 29,
   "id": "633ef4ee-4225-4fc2-a304-2f29a993c0b2",
   "metadata": {},
   "outputs": [
    {
     "data": {
      "text/plain": [
       "randomTemperatureGenerator: ()String\n"
      ]
     },
     "execution_count": 29,
     "metadata": {},
     "output_type": "execute_result"
    }
   ],
   "source": [
    "def randomTemperatureGenerator(): String = {\n",
    "    if(Random.nextFloat()<.2) {\n",
    "        return \"NaN\"\n",
    "    }\n",
    "    BigDecimal((50 - Random.nextInt(100)) * Random.nextFloat()).setScale(6, BigDecimal.RoundingMode.HALF_UP).toString\n",
    "}"
   ]
  },
  {
   "cell_type": "code",
   "execution_count": 30,
   "id": "82b07692-e396-483c-9c8e-2383e664cc54",
   "metadata": {},
   "outputs": [
    {
     "data": {
      "text/plain": [
       "randomLocationGenerator: ()String\n"
      ]
     },
     "execution_count": 30,
     "metadata": {},
     "output_type": "execute_result"
    }
   ],
   "source": [
    "def randomLocationGenerator(): String = {\n",
    "    if(Random.nextFloat()<.2) {\n",
    "        return \"NaN\"\n",
    "    }\n",
    "    val latitude = BigDecimal((90 - Random.nextInt(180)) * Random.nextFloat()).setScale(6, BigDecimal.RoundingMode.HALF_UP).toString\n",
    "    val longitude = BigDecimal((180 - Random.nextInt(360)) * Random.nextFloat()).setScale(6, BigDecimal.RoundingMode.HALF_UP).toString\n",
    "    latitude+\",\"+longitude\n",
    "}"
   ]
  },
  {
   "cell_type": "code",
   "execution_count": 31,
   "id": "38d94e5a-30c9-4ac4-8d9a-e1c18791fe42",
   "metadata": {},
   "outputs": [
    {
     "data": {
      "text/plain": [
       "countriesCodeList: Array[String] = Array(AD, AE, AF, AG, AI, AL, AM, AO, AQ, AR, AS, AT, AU, AW, AX, AZ, BA, BB, BD, BE, BF, BG, BH, BI, BJ, BL, BM, BN, BO, BQ, BR, BS, BT, BV, BW, BY, BZ, CA, CC, CD, CF, CG, CH, CI, CK, CL, CM, CN, CO, CR, CU, CV, CW, CX, CY, CZ, DE, DJ, DK, DM, DO, DZ, EC, EE, EG, EH, ER, ES, ET, FI, FJ, FK, FM, FO, FR, GA, GB, GD, GE, GF, GG, GH, GI, GL, GM, GN, GP, GQ, GR, GS, GT, GU, GW, GY, HK, HM, HN, HR, HT, HU, ID, IE, IL, IM, IN, IO, IQ, IR, IS, IT, JE, JM, JO, JP, KE, KG, KH, KI, KM, KN, KP, KR, KW, KY, KZ, LA, LB, LC, LI, LK, LR, LS, LT, LU, LV, LY, MA, MC, MD, ME, MF, MG, MH, MK, ML, MM, MN, MO, MP, MQ, MR, MS, MT, MU, MV, MW, MX, MY, MZ, NA, NC, NE, NF, NG, NI, NL, NO, NP, NR, NU, NZ, OM, PA, PE, PF, PG, PH, PK, PL, PM, PN, PR, PS, PT, PW, PY, QA, RE, RO, ...\n"
      ]
     },
     "execution_count": 31,
     "metadata": {},
     "output_type": "execute_result"
    }
   ],
   "source": [
    "var countriesCodeList = java.util.Locale.getISOCountries()"
   ]
  },
  {
   "cell_type": "code",
   "execution_count": 38,
   "id": "ddc93c3d-5687-4ae3-8d9c-835a044519e2",
   "metadata": {},
   "outputs": [
    {
     "data": {
      "text/plain": [
       "randomCountryCodeGenerator: ()String\n"
      ]
     },
     "execution_count": 38,
     "metadata": {},
     "output_type": "execute_result"
    }
   ],
   "source": [
    "def randomCountryCodeGenerator(): String = {\n",
    "    if(Random.nextFloat()<.2) {\n",
    "        return \"NaN\"\n",
    "    }\n",
    "    countriesCodeList(Random.nextInt(countriesCodeList.length))\n",
    "}"
   ]
  },
  {
   "cell_type": "code",
   "execution_count": 39,
   "id": "c7fd76a7-e363-4ec1-82f8-0f43850fc6a7",
   "metadata": {},
   "outputs": [
    {
     "data": {
      "text/plain": [
       "df: org.apache.spark.sql.DataFrame = [timestamp: string, temperature: string ... 2 more fields]\n"
      ]
     },
     "execution_count": 39,
     "metadata": {},
     "output_type": "execute_result"
    }
   ],
   "source": [
    "val df = spark.sparkContext.parallelize(\n",
    "            Seq.fill(20){\n",
    "                (LocalDateTime.ofEpochSecond(start + Random.nextInt(86400*365), 5000,ZoneOffset.UTC).toString\n",
    "                 , randomTemperatureGenerator()\n",
    "                 , randomLocationGenerator()\n",
    "                 , randomCountryCodeGenerator()\n",
    "            )}, 10).toDF(\"timestamp\", \"temperature\", \"location\", \"observatory\")"
   ]
  },
  {
   "cell_type": "code",
   "execution_count": 40,
   "id": "d5f40f24-032a-4244-8463-da8f40c013b8",
   "metadata": {},
   "outputs": [
    {
     "name": "stdout",
     "output_type": "stream",
     "text": [
      "+--------------------+-----------+--------------------+-----------+\n",
      "|           timestamp|temperature|            location|observatory|\n",
      "+--------------------+-----------+--------------------+-----------+\n",
      "|2021-07-02T04:57:...|   0.000000|  7.037897,89.790657|         KE|\n",
      "|2021-01-27T19:44:...|  11.254812|-65.456100,45.934063|         LK|\n",
      "|2021-07-22T05:57:...|   9.144113|-7.730503,-74.412445|         MH|\n",
      "|2021-10-12T13:31:...| -28.528172|                 NaN|         MK|\n",
      "|2021-09-08T06:54:...|        NaN|  8.562175,74.383644|        NaN|\n",
      "|2021-01-17T19:35:...|   8.163269|-14.027365,-128.6...|         VI|\n",
      "|2021-05-01T09:59:...|   3.016435|-27.532867,22.758667|         PR|\n",
      "|2021-12-24T20:36:...|   7.473855| 42.925018,16.073051|         GH|\n",
      "|2021-02-16T04:36:...|        NaN|-28.753862,-6.613416|         BH|\n",
      "|2021-01-29T23:15:...|  -3.113942|                 NaN|        NaN|\n",
      "|2021-11-07T20:33:...|  35.118458|-74.940826,63.670044|         AF|\n",
      "|2021-05-15T12:27:...|  14.567891|-10.101830,-44.23...|         CD|\n",
      "|2021-07-07T03:23:...|  40.985325|-43.057827,-74.82...|         MM|\n",
      "|2021-09-17T13:51:...|  -2.854151|   3.497397,5.322024|         BW|\n",
      "|2021-02-04T02:48:...|        NaN| 31.913311,13.599823|         KE|\n",
      "|2021-09-13T14:23:...|   2.832823| 46.259388,58.926399|         MQ|\n",
      "|2021-10-14T15:13:...|  -2.148769|                 NaN|        NaN|\n",
      "|2021-06-01T16:21:...|  13.658620| -16.838539,1.134837|        NaN|\n",
      "|2021-11-16T14:44:...|  -7.337278|-56.515732,-9.568994|         PR|\n",
      "|2021-06-09T21:23:...|  -7.251513|  3.590960,15.695739|        NaN|\n",
      "+--------------------+-----------+--------------------+-----------+\n",
      "\n"
     ]
    }
   ],
   "source": [
    "df.show()"
   ]
  },
  {
   "cell_type": "code",
   "execution_count": 41,
   "id": "e9ec3084-c472-4a35-a4e2-30174a41f9e9",
   "metadata": {},
   "outputs": [],
   "source": [
    "df.write.option(\"header\",\"true\").mode(\"overwrite\").csv(\"weatherbaloon.csv\")"
   ]
  },
  {
   "cell_type": "code",
   "execution_count": null,
   "id": "641252a6-5a7b-4639-88d0-bbbe5a4fde45",
   "metadata": {},
   "outputs": [],
   "source": []
  }
 ],
 "metadata": {
  "kernelspec": {
   "display_name": "spylon-kernel",
   "language": "scala",
   "name": "spylon-kernel"
  },
  "language_info": {
   "codemirror_mode": "text/x-scala",
   "file_extension": ".scala",
   "help_links": [
    {
     "text": "MetaKernel Magics",
     "url": "https://metakernel.readthedocs.io/en/latest/source/README.html"
    }
   ],
   "mimetype": "text/x-scala",
   "name": "scala",
   "pygments_lexer": "scala",
   "version": "0.4.1"
  }
 },
 "nbformat": 4,
 "nbformat_minor": 5
}
