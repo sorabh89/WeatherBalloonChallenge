{
 "cells": [
  {
   "cell_type": "code",
   "execution_count": 102,
   "id": "20a788db-1ede-48f8-ac26-90e6cddd61e2",
   "metadata": {},
   "outputs": [
    {
     "data": {
      "text/plain": [
       "import scala.util.Random\n",
       "import java.time._\n",
       "import org.apache.spark.sql.functions._\n"
      ]
     },
     "execution_count": 102,
     "metadata": {},
     "output_type": "execute_result"
    }
   ],
   "source": [
    "import scala.util.Random\n",
    "import java.time._\n",
    "import org.apache.spark.sql.functions._"
   ]
  },
  {
   "cell_type": "code",
   "execution_count": 103,
   "id": "c2bd2f92-0062-4b38-982d-76a17dadd9c0",
   "metadata": {},
   "outputs": [
    {
     "data": {
      "text/plain": [
       "df: org.apache.spark.sql.DataFrame = [timestamp: string, temperature: string ... 2 more fields]\n"
      ]
     },
     "execution_count": 103,
     "metadata": {},
     "output_type": "execute_result"
    }
   ],
   "source": [
    "var df = spark.read.format(\"csv\").option(\"header\", \"true\").load(\"weatherbaloon.csv\")"
   ]
  },
  {
   "cell_type": "code",
   "execution_count": 104,
   "id": "5ef50883-19d3-4035-b288-94c97f21d5cd",
   "metadata": {},
   "outputs": [
    {
     "name": "stdout",
     "output_type": "stream",
     "text": [
      "root\n",
      " |-- timestamp: string (nullable = true)\n",
      " |-- temperature: string (nullable = true)\n",
      " |-- location: string (nullable = true)\n",
      " |-- observatory: string (nullable = true)\n",
      "\n"
     ]
    }
   ],
   "source": [
    "df.printSchema()"
   ]
  },
  {
   "cell_type": "code",
   "execution_count": 105,
   "id": "74414dca-fb1e-4a5d-9751-e63e1d871642",
   "metadata": {},
   "outputs": [
    {
     "data": {
      "text/plain": [
       "df: org.apache.spark.sql.DataFrame = [timestamp: string, temperature: float ... 2 more fields]\n"
      ]
     },
     "execution_count": 105,
     "metadata": {},
     "output_type": "execute_result"
    }
   ],
   "source": [
    "df = df.withColumn(\"temperature\",col(\"temperature\").cast(\"float\"))"
   ]
  },
  {
   "cell_type": "code",
   "execution_count": 106,
   "id": "5cf9b84f-2250-4a62-973e-3e4dd26d58df",
   "metadata": {},
   "outputs": [
    {
     "name": "stdout",
     "output_type": "stream",
     "text": [
      "root\n",
      " |-- timestamp: string (nullable = true)\n",
      " |-- temperature: float (nullable = true)\n",
      " |-- location: string (nullable = true)\n",
      " |-- observatory: string (nullable = true)\n",
      "\n"
     ]
    }
   ],
   "source": [
    "df.printSchema()"
   ]
  },
  {
   "cell_type": "code",
   "execution_count": 107,
   "id": "a7319930-d1bb-43e6-9c79-3e6794ebc708",
   "metadata": {},
   "outputs": [
    {
     "data": {
      "text/plain": [
       "readYear: (date: String)Int\n"
      ]
     },
     "execution_count": 107,
     "metadata": {},
     "output_type": "execute_result"
    }
   ],
   "source": [
    "def readYear(date: String): Int = {\n",
    "    LocalDateTime.parse(date).getYear()\n",
    "}"
   ]
  },
  {
   "cell_type": "code",
   "execution_count": 108,
   "id": "847e50da-c070-4d73-b54a-5d4b754813f4",
   "metadata": {},
   "outputs": [
    {
     "data": {
      "text/plain": [
       "readMonth: (date: String)Int\n"
      ]
     },
     "execution_count": 108,
     "metadata": {},
     "output_type": "execute_result"
    }
   ],
   "source": [
    "def readMonth(date: String): Int = {\n",
    "    LocalDateTime.parse(date).getMonthValue()\n",
    "}"
   ]
  },
  {
   "cell_type": "code",
   "execution_count": 109,
   "id": "8a8aa8a0-9db0-4c27-b4d8-248a28d1cb9b",
   "metadata": {},
   "outputs": [
    {
     "data": {
      "text/plain": [
       "readDay: (date: String)Int\n"
      ]
     },
     "execution_count": 109,
     "metadata": {},
     "output_type": "execute_result"
    }
   ],
   "source": [
    "def readDay(date: String): Int = {\n",
    "    LocalDateTime.parse(date).getDayOfMonth()\n",
    "}"
   ]
  },
  {
   "cell_type": "code",
   "execution_count": 110,
   "id": "8e4b5ce0-9396-404d-9298-0b803b454e83",
   "metadata": {},
   "outputs": [
    {
     "data": {
      "text/plain": [
       "readYearUDF: org.apache.spark.sql.expressions.UserDefinedFunction = SparkUserDefinedFunction($Lambda$4512/0x000000084185e840@3c2b2c1e,IntegerType,List(Some(class[value[0]: string])),Some(class[value[0]: int]),None,false,true)\n",
       "readMonthUDF: org.apache.spark.sql.expressions.UserDefinedFunction = SparkUserDefinedFunction($Lambda$4513/0x000000084185f840@468457cb,IntegerType,List(Some(class[value[0]: string])),Some(class[value[0]: int]),None,false,true)\n",
       "readDayUDF: org.apache.spark.sql.expressions.UserDefinedFunction = SparkUserDefinedFunction($Lambda$4514/0x000000084178a040@6787c19a,IntegerType,List(Some(class[value[0]: string])),Some(class[value[0]: int]),None,false,true)\n"
      ]
     },
     "execution_count": 110,
     "metadata": {},
     "output_type": "execute_result"
    }
   ],
   "source": [
    "val readYearUDF = udf(readYear(_))\n",
    "val readMonthUDF = udf(readMonth(_))\n",
    "val readDayUDF = udf(readDay(_))"
   ]
  },
  {
   "cell_type": "code",
   "execution_count": 111,
   "id": "758697c5-c39c-4580-baa7-76f0057d60a0",
   "metadata": {},
   "outputs": [
    {
     "data": {
      "text/plain": [
       "df: org.apache.spark.sql.DataFrame = [timestamp: string, temperature: float ... 3 more fields]\n"
      ]
     },
     "execution_count": 111,
     "metadata": {},
     "output_type": "execute_result"
    }
   ],
   "source": [
    "df = df.withColumn(\"year\",readYearUDF(col(\"timestamp\")))"
   ]
  },
  {
   "cell_type": "code",
   "execution_count": 112,
   "id": "c9ef01cd-8d81-4372-ba7c-652bbbd3ada7",
   "metadata": {},
   "outputs": [
    {
     "data": {
      "text/plain": [
       "df: org.apache.spark.sql.DataFrame = [timestamp: string, temperature: float ... 4 more fields]\n"
      ]
     },
     "execution_count": 112,
     "metadata": {},
     "output_type": "execute_result"
    }
   ],
   "source": [
    "df = df.withColumn(\"month\",readMonthUDF(col(\"timestamp\")))"
   ]
  },
  {
   "cell_type": "code",
   "execution_count": 113,
   "id": "48add8ef-1175-4fcd-9e02-4627d92b137e",
   "metadata": {},
   "outputs": [
    {
     "data": {
      "text/plain": [
       "df: org.apache.spark.sql.DataFrame = [timestamp: string, temperature: float ... 5 more fields]\n"
      ]
     },
     "execution_count": 113,
     "metadata": {},
     "output_type": "execute_result"
    }
   ],
   "source": [
    "df = df.withColumn(\"day\",readDayUDF(col(\"timestamp\")))"
   ]
  },
  {
   "cell_type": "code",
   "execution_count": 114,
   "id": "d743f048-af39-4b42-b88a-c270281b78db",
   "metadata": {},
   "outputs": [
    {
     "name": "stdout",
     "output_type": "stream",
     "text": [
      "+--------------------+-----------+--------------------+-----------+----+-----+---+\n",
      "|           timestamp|temperature|            location|observatory|year|month|day|\n",
      "+--------------------+-----------+--------------------+-----------+----+-----+---+\n",
      "|2021-11-07T20:33:...|  35.118458|-74.940826,63.670044|         AF|2021|   11|  7|\n",
      "|2021-05-15T12:27:...|  14.567891|-10.101830,-44.23...|         CD|2021|    5| 15|\n",
      "|2021-11-16T14:44:...|  -7.337278|-56.515732,-9.568994|         PR|2021|   11| 16|\n",
      "|2021-06-09T21:23:...|  -7.251513|  3.590960,15.695739|        NaN|2021|    6|  9|\n",
      "|2021-07-07T03:23:...|  40.985325|-43.057827,-74.82...|         MM|2021|    7|  7|\n",
      "|2021-09-17T13:51:...|  -2.854151|   3.497397,5.322024|         BW|2021|    9| 17|\n",
      "|2021-05-01T09:59:...|   3.016435|-27.532867,22.758667|         PR|2021|    5|  1|\n",
      "|2021-12-24T20:36:...|   7.473855| 42.925018,16.073051|         GH|2021|   12| 24|\n",
      "|2021-07-02T04:57:...|        0.0|  7.037897,89.790657|         KE|2021|    7|  2|\n",
      "|2021-01-27T19:44:...|  11.254812|-65.456100,45.934063|         LK|2021|    1| 27|\n",
      "|2021-09-08T06:54:...|        NaN|  8.562175,74.383644|        NaN|2021|    9|  8|\n",
      "|2021-01-17T19:35:...|   8.163269|-14.027365,-128.6...|         VI|2021|    1| 17|\n",
      "|2021-02-04T02:48:...|        NaN| 31.913311,13.599823|         KE|2021|    2|  4|\n",
      "|2021-09-13T14:23:...|   2.832823| 46.259388,58.926399|         MQ|2021|    9| 13|\n",
      "|2021-10-14T15:13:...|  -2.148769|                 NaN|        NaN|2021|   10| 14|\n",
      "|2021-06-01T16:21:...|   13.65862| -16.838539,1.134837|        NaN|2021|    6|  1|\n",
      "|2021-07-22T05:57:...|   9.144113|-7.730503,-74.412445|         MH|2021|    7| 22|\n",
      "|2021-10-12T13:31:...| -28.528172|                 NaN|         MK|2021|   10| 12|\n",
      "|2021-02-16T04:36:...|        NaN|-28.753862,-6.613416|         BH|2021|    2| 16|\n",
      "|2021-01-29T23:15:...|  -3.113942|                 NaN|        NaN|2021|    1| 29|\n",
      "+--------------------+-----------+--------------------+-----------+----+-----+---+\n",
      "\n"
     ]
    }
   ],
   "source": [
    "df.show()"
   ]
  },
  {
   "cell_type": "code",
   "execution_count": 117,
   "id": "c0abe095-2165-4893-acea-b3e9a4ca12f9",
   "metadata": {},
   "outputs": [
    {
     "name": "stdout",
     "output_type": "stream",
     "text": [
      "+-----------------+\n",
      "| avg(temperature)|\n",
      "+-----------------+\n",
      "|5.587163308087518|\n",
      "+-----------------+\n",
      "\n"
     ]
    }
   ],
   "source": [
    "df.filter($\"temperature\" !== \"NaN\").select(avg($\"temperature\")).show()"
   ]
  },
  {
   "cell_type": "code",
   "execution_count": 116,
   "id": "d579e692-9c15-4fdb-a9dc-c5fad4c5b5b2",
   "metadata": {},
   "outputs": [
    {
     "name": "stdout",
     "output_type": "stream",
     "text": [
      "+----------------+\n",
      "|avg(temperature)|\n",
      "+----------------+\n",
      "|            null|\n",
      "+----------------+\n",
      "\n"
     ]
    }
   ],
   "source": [
    "df.filter($\"month\" === 2).filter($\"temperature\" !== \"NaN\").select(avg($\"temperature\")).show()"
   ]
  },
  {
   "cell_type": "code",
   "execution_count": null,
   "id": "1dcc9e61-0226-44e2-b375-ebaea774ae3f",
   "metadata": {},
   "outputs": [],
   "source": []
  }
 ],
 "metadata": {
  "kernelspec": {
   "display_name": "spylon-kernel",
   "language": "scala",
   "name": "spylon-kernel"
  },
  "language_info": {
   "codemirror_mode": "text/x-scala",
   "file_extension": ".scala",
   "help_links": [
    {
     "text": "MetaKernel Magics",
     "url": "https://metakernel.readthedocs.io/en/latest/source/README.html"
    }
   ],
   "mimetype": "text/x-scala",
   "name": "scala",
   "pygments_lexer": "scala",
   "version": "0.4.1"
  }
 },
 "nbformat": 4,
 "nbformat_minor": 5
}
